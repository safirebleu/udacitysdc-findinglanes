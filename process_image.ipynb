{
 "cells": [
  {
   "cell_type": "code",
   "execution_count": 64,
   "metadata": {
    "collapsed": false
   },
   "outputs": [
    {
     "name": "stdout",
     "output_type": "stream",
     "text": [
      "This image is: <class 'numpy.ndarray'> with dimesions: (540, 960, 3)\n"
     ]
    },
    {
     "data": {
      "image/png": "[encoded data removed]",
      "text/plain": [
       "<matplotlib.figure.Figure at 0x25f0fb56dd8>"
      ]
     },
     "metadata": {},
     "output_type": "display_data"
    }
   ],
   "source": [
    "#Import packages\n",
    "import os\n",
    "import cv2\n",
    "import numpy as np\n",
    "import matplotlib.pyplot as plt\n",
    "import matplotlib.image as mpimg\n",
    "\n",
    "%matplotlib inline\n",
    "\n",
    "#reading in an image\n",
    "image = mpimg.imread('test_images/solidWhiteRight.jpg')\n",
    "#printing out some stats and plotting\n",
    "print('This image is:', type(image), 'with dimesions:', image.shape)\n",
    " #call as plt.imshow(gray, cmap='gray') to show a grayscaled image\n",
    "\n",
    "\n",
    "#GRAYSCALE & NOISE FILTERING\n",
    "    #Function begins with taking the input image and converting it to grayscale \n",
    "kernel_size = 5 #Set kernel size for Gaussian smoothing; Must be an odd number (3, 5, 7...)\n",
    "gray = cv2.cvtColor(image,cv2.COLOR_BGR2GRAY) #Conversion to grayscale\n",
    "blur_gray = cv2.GaussianBlur(gray,(kernel_size, kernel_size),0) #Gaussian smoothing function \n",
    "\n",
    "\n",
    "#EDGE DETECTION\n",
    "    # After 'flattening' the RGB image into grayscale and reducing noise, use the Canny function to detect edges. \n",
    "# Threshold parameters for Canny edge detection:\n",
    "low_threshold = 10\n",
    "high_threshold = 100\n",
    "edges = cv2.Canny(blur_gray, low_threshold, high_threshold) # Returns an image of contours/edges\n",
    "\n",
    "#MASKING\n",
    "    # We now need to create a mask to define an area of where the lane is in the image. \n",
    "    # Ideally, this would be a dynamic mask, but for the purposes of this lesson, we create a static mask. \n",
    "mask = np.zeros_like(edges)   \n",
    "ignore_mask_color = 255   \n",
    "\n",
    "    # We use cv2.fillPoly() to remove the regions where the lane cannot be by defining a four-sided mask\n",
    "imshape = image.shape\n",
    "vertices = np.array([[(0,imshape[0]),(450, 315), (500, 315), (imshape[1],imshape[0])]], dtype=np.int32)\n",
    "cv2.fillPoly(mask, vertices, ignore_mask_color) # Fills verticies in the empty mask with a polygon\n",
    "masked_edges = cv2.bitwise_and(edges, mask) # Processes the Edges image and removes pixels outside the mask\n",
    "plt.imshow(masked_edges, cmap='gray')\n",
    "\n",
    "\n",
    "#HOUGH TRANSFORM\n",
    "    # Performing the hough transform will allow us to find pixels that are roughly congregated along in lines  \n",
    "\n",
    "# Hough transform parameters\n",
    "rho = 1 # Distance resolution in pixels of the Hough grid\n",
    "theta = np.pi/180 # Angular resolution in radians of the Hough grid\n",
    "threshold = 15 # Minimum number of votes (intersections in Hough grid cell)\n",
    "min_line_length = 120 # minimum number of pixels making up a line\n",
    "max_line_gap = 150    # maximum gap in pixels between connectable line segments\n",
    "line_image = np.copy(image)*0 # creating a blank to draw lines on\n",
    "\n",
    "\n",
    "# Run Hough on edge detected image\n",
    "# Output \"lines\" is an array containing endpoints of detected line segments\n",
    "lines = cv2.HoughLinesP(masked_edges, rho, theta, threshold, np.array([]),\n",
    "                            min_line_length, max_line_gap)\n",
    "\n",
    "\n",
    "# Iterate over the output \"lines\" and draw lines on a blank image\n",
    "for line in lines:\n",
    "    for x1,y1,x2,y2 in line:\n",
    "        cv2.line(line_image,(x1,y1),(x2,y2),(255,0,0),3)\n",
    "\n",
    "\n",
    "# Create a \"color\" binary image to combine with line image\n",
    "color_edges = np.dstack((edges, edges, edges)) \n",
    "\n",
    "\n",
    "\n",
    "# Draw the lines on the edge image\n",
    "result = cv2.addWeighted(image, 1, line_image, 1, 0) \n",
    "\n"
   ]
  },
  {
   "cell_type": "code",
   "execution_count": null,
   "metadata": {
    "collapsed": true
   },
   "outputs": [],
   "source": []
  }
 ],
 "metadata": {
  "anaconda-cloud": {},
  "kernelspec": {
   "display_name": "Python [conda root]",
   "language": "python",
   "name": "conda-root-py"
  },
  "language_info": {
   "codemirror_mode": {
    "name": "ipython",
    "version": 3
   },
   "file_extension": ".py",
   "mimetype": "text/x-python",
   "name": "python",
   "nbconvert_exporter": "python",
   "pygments_lexer": "ipython3",
   "version": "3.5.2"
  }
 },
 "nbformat": 4,
 "nbformat_minor": 1
}
